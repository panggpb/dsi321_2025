{
 "cells": [
  {
   "cell_type": "code",
   "execution_count": 2,
   "id": "e53e2377",
   "metadata": {},
   "outputs": [],
   "source": [
    "import os\n",
    "import pandas as pd\n",
    "import numpy as np\n",
    "import pyarrow.parquet as pq\n",
    "import s3fs\n",
    "import time\n",
    "from zoneinfo import ZoneInfo\n",
    "from datetime import timedelta, datetime\n",
    "\n",
    "\n",
    "# Set up environments of LakeFS\n",
    "lakefs_endpoint = os.getenv(\"LAKEFS_ENDPOINT\", \"http://lakefs-dev:8000\")\n",
    "ACCESS_KEY = 'access_key'\n",
    "SECRET_KEY = 'secret_key'\n",
    "\n",
    "# Setting S3FileSystem for access LakeFS\n",
    "fs = s3fs.S3FileSystem(\n",
    "    key=ACCESS_KEY,\n",
    "    secret=SECRET_KEY,\n",
    "    client_kwargs={'endpoint_url': lakefs_endpoint}\n",
    ")\n",
    "\n",
    "def load_data():\n",
    "    lakefs_path = \"s3://dsi321-record-air-quality/main/airquality.parquet/year=2025\"\n",
    "    data_list = fs.glob(f\"{lakefs_path}/*/*/*/*\")\n",
    "    df_all = pd.concat([pd.read_parquet(f\"s3://{path}\", filesystem=fs) for path in data_list], ignore_index=True)\n",
    "    df_all['lat'] = pd.to_numeric(df_all['lat'], errors='coerce')\n",
    "    df_all['long'] = pd.to_numeric(df_all['long'], errors='coerce')\n",
    "    df_all['year'] = df_all['year'].astype(int)\n",
    "    df_all['month'] = df_all['month'].astype(int)\n",
    "    df_all.drop_duplicates(inplace=True)\n",
    "    df_all['PM25.value'] = df_all['PM25.value'].mask(df_all['PM25.value'] < 0, pd.NA)\n",
    "    # Fill value \"Previous Record\" Group By stationID\n",
    "    df_all['PM25.value'] = df_all.groupby('stationID')['PM25.value'].transform(lambda x: x.ffill())\n",
    "    return df_all"
   ]
  },
  {
   "cell_type": "code",
   "execution_count": 4,
   "id": "36bdf003",
   "metadata": {},
   "outputs": [],
   "source": [
    "df = load_data()"
   ]
  },
  {
   "cell_type": "code",
   "execution_count": null,
   "id": "2c90c4b7",
   "metadata": {},
   "outputs": [],
   "source": [
    "# เปลี่ยน data types กันด้วยนะ"
   ]
  },
  {
   "cell_type": "code",
   "execution_count": null,
   "id": "c35ed9f0",
   "metadata": {},
   "outputs": [],
   "source": [
    "df.to_csv('data.csv', encoding='utf-8', index=False)"
   ]
  },
  {
   "cell_type": "code",
   "execution_count": null,
   "id": "aa5e60aa",
   "metadata": {},
   "outputs": [],
   "source": [
    "df.to_parquet('data2.parquet', partition_cols=['year','month','day','hour'], engine='pyarrow')"
   ]
  }
 ],
 "metadata": {
  "kernelspec": {
   "display_name": "dsi321",
   "language": "python",
   "name": "python3"
  },
  "language_info": {
   "codemirror_mode": {
    "name": "ipython",
    "version": 3
   },
   "file_extension": ".py",
   "mimetype": "text/x-python",
   "name": "python",
   "nbconvert_exporter": "python",
   "pygments_lexer": "ipython3",
   "version": "3.10.17"
  }
 },
 "nbformat": 4,
 "nbformat_minor": 5
}
